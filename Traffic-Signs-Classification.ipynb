{
 "cells": [
  {
   "cell_type": "markdown",
   "id": "136250b9",
   "metadata": {},
   "source": [
    "# Traffic Sign Classification"
   ]
  },
  {
   "cell_type": "markdown",
   "id": "4781913a",
   "metadata": {},
   "source": [
    "Autonomous cars must make real-time decision about perception of surroundings. CNN classifier accuracy must be close to 100%. One wrong classification can cause loss to life and property. I recently built a CNN from scratch to detect and classify traffic signs using open source data."
   ]
  },
  {
   "cell_type": "markdown",
   "id": "bb308c2a",
   "metadata": {},
   "source": [
    "# Importing required libraries"
   ]
  },
  {
   "cell_type": "code",
   "execution_count": 1,
   "id": "47d51ca4",
   "metadata": {},
   "outputs": [],
   "source": [
    "import numpy as np\n",
    "import pandas as pd\n",
    "import matplotlib.pyplot as plt\n",
    "import cv2\n",
    "import tensorflow as tf\n",
    "from PIL import Image\n",
    "from sklearn.model_selection import train_test_split\n",
    "from keras.utils import to_categorical\n",
    "from keras.models import Sequential, load_model\n",
    "from keras.layers import Conv2D, MaxPool2D, Dense, Flatten, Dropout\n",
    "import os\n",
    "os.chdir(\"C:\\Projects\")"
   ]
  },
  {
   "cell_type": "markdown",
   "id": "30949605",
   "metadata": {},
   "source": [
    "# Store data, labels in the list"
   ]
  },
  {
   "cell_type": "code",
   "execution_count": 2,
   "id": "860629c0",
   "metadata": {},
   "outputs": [],
   "source": [
    "data =[]\n",
    "labels =[]\n",
    "classes=43\n",
    "cur_path = os.getcwd()"
   ]
  },
  {
   "cell_type": "code",
   "execution_count": 3,
   "id": "019d9a73",
   "metadata": {},
   "outputs": [
    {
     "data": {
      "text/plain": [
       "'C:\\\\Projects'"
      ]
     },
     "execution_count": 3,
     "metadata": {},
     "output_type": "execute_result"
    }
   ],
   "source": [
    "cur_path"
   ]
  },
  {
   "cell_type": "markdown",
   "id": "3ce9cce1",
   "metadata": {},
   "source": [
    "# Preprocess the images"
   ]
  },
  {
   "cell_type": "code",
   "execution_count": 4,
   "id": "ad4d76f2",
   "metadata": {},
   "outputs": [],
   "source": [
    "for i in range(classes):     \n",
    "    path = os.path.join(cur_path,'train',str(i))     \n",
    "    images = os.listdir(path)\n",
    "    for a in images:\n",
    "        try:             \n",
    "            image = Image.open(path +'\\\\'+ a)             \n",
    "            image = image.resize((30,30)) \n",
    "            # Resizing all images into 30*30                                                 \n",
    "            image =np.array(image)             \n",
    "            data.append(image)             \n",
    "            labels.append(i)\n",
    "        except Exception as e:\n",
    "            print(e)"
   ]
  },
  {
   "cell_type": "markdown",
   "id": "7088115b",
   "metadata": {},
   "source": [
    "# Converting lists into numpy arrays"
   ]
  },
  {
   "cell_type": "code",
   "execution_count": 5,
   "id": "faa76141",
   "metadata": {},
   "outputs": [
    {
     "name": "stdout",
     "output_type": "stream",
     "text": [
      "(39209, 30, 30, 3) (39209,)\n"
     ]
    }
   ],
   "source": [
    "data = np.array(data)\n",
    "labels = np.array(labels)\n",
    "print(data.shape, labels.shape)"
   ]
  },
  {
   "cell_type": "markdown",
   "id": "f671bfba",
   "metadata": {},
   "source": [
    "# Save Labels & Data for future use"
   ]
  },
  {
   "cell_type": "code",
   "execution_count": 6,
   "id": "c45936f0",
   "metadata": {},
   "outputs": [],
   "source": [
    "#os.mkdir('training')\n",
    "\n",
    "np.save('./training/data',data)\n",
    "np.save('./training/target',labels)"
   ]
  },
  {
   "cell_type": "markdown",
   "id": "f27ce8a1",
   "metadata": {},
   "source": [
    "# Load data & Labels"
   ]
  },
  {
   "cell_type": "code",
   "execution_count": 7,
   "id": "0d1b77e6",
   "metadata": {},
   "outputs": [],
   "source": [
    "data = np.load('./training/data.npy')\n",
    "labels=np.load('./training/target.npy')"
   ]
  },
  {
   "cell_type": "code",
   "execution_count": 8,
   "id": "ea397e33",
   "metadata": {},
   "outputs": [
    {
     "name": "stdout",
     "output_type": "stream",
     "text": [
      "(39209, 30, 30, 3) (39209,)\n"
     ]
    }
   ],
   "source": [
    "print(data.shape, labels.shape)"
   ]
  },
  {
   "cell_type": "code",
   "execution_count": 9,
   "id": "e29effc3",
   "metadata": {},
   "outputs": [],
   "source": [
    "X_train,X_test, y_train, y_test = train_test_split(data, labels, test_size=0.2, random_state=0)"
   ]
  },
  {
   "cell_type": "code",
   "execution_count": 10,
   "id": "90b305f5",
   "metadata": {},
   "outputs": [
    {
     "name": "stdout",
     "output_type": "stream",
     "text": [
      "(31367, 30, 30, 3) (7842, 30, 30, 3) (31367,) (7842,)\n"
     ]
    }
   ],
   "source": [
    "print(X_train.shape, X_test.shape, y_train.shape, y_test.shape)"
   ]
  },
  {
   "cell_type": "markdown",
   "id": "876b3ca5",
   "metadata": {},
   "source": [
    "# Convert labels to onehot encoding"
   ]
  },
  {
   "cell_type": "code",
   "execution_count": 11,
   "id": "c1595a1c",
   "metadata": {},
   "outputs": [],
   "source": [
    "y_train = to_categorical(y_train,43)\n",
    "y_test = to_categorical(y_test,43)"
   ]
  },
  {
   "cell_type": "markdown",
   "id": "a46157d8",
   "metadata": {},
   "source": [
    "# Building the model"
   ]
  },
  {
   "cell_type": "code",
   "execution_count": 12,
   "id": "b837d43b",
   "metadata": {},
   "outputs": [],
   "source": [
    "model = Sequential()\n",
    "model.add(Conv2D(filters=32, kernel_size=(5,5), activation='relu', input_shape= X_train.shape[1:]))\n",
    "model.add(Conv2D(filters=32, kernel_size=(5,5), activation='relu'))\n",
    "model.add(MaxPool2D(pool_size=(2,2)))\n",
    "model.add(Dropout(rate=0.25))\n",
    "model.add(Conv2D(filters=64, kernel_size=(3,3), activation='relu'))\n",
    "model.add(Conv2D(filters=64, kernel_size=(3,3), activation='relu'))\n",
    "model.add(MaxPool2D(pool_size=(2,2)))\n",
    "model.add(Dropout(rate=0.25))\n",
    "model.add(Flatten())\n",
    "model.add(Dense(356, activation='relu'))\n",
    "model.add(Dropout(rate=0.5))\n",
    "#We have 43 classes that's why we have defined 43 in the dense\n",
    "model.add(Dense(43, activation=\"softmax\"))"
   ]
  },
  {
   "cell_type": "code",
   "execution_count": 13,
   "id": "f63b5b3e",
   "metadata": {},
   "outputs": [],
   "source": [
    "#Compilation of model\n",
    "model.compile(loss='categorical_crossentropy', optimizer='adam', metrics=['accuracy'])"
   ]
  },
  {
   "cell_type": "code",
   "execution_count": 14,
   "id": "5e7cb3f7",
   "metadata": {},
   "outputs": [
    {
     "name": "stdout",
     "output_type": "stream",
     "text": [
      "Epoch 1/20\n",
      "981/981 [==============================] - 70s 70ms/step - loss: 1.5672 - accuracy: 0.5974 - val_loss: 0.2758 - val_accuracy: 0.9246\n",
      "Epoch 2/20\n",
      "981/981 [==============================] - 69s 70ms/step - loss: 0.4723 - accuracy: 0.8618 - val_loss: 0.1269 - val_accuracy: 0.9686\n",
      "Epoch 3/20\n",
      "981/981 [==============================] - 69s 70ms/step - loss: 0.3181 - accuracy: 0.9073 - val_loss: 0.1804 - val_accuracy: 0.9519\n",
      "Epoch 4/20\n",
      "981/981 [==============================] - 72s 73ms/step - loss: 0.2918 - accuracy: 0.9180 - val_loss: 0.0966 - val_accuracy: 0.9748\n",
      "Epoch 5/20\n",
      "981/981 [==============================] - 74s 76ms/step - loss: 0.2444 - accuracy: 0.9312 - val_loss: 0.0945 - val_accuracy: 0.9728\n",
      "Epoch 6/20\n",
      "981/981 [==============================] - 72s 74ms/step - loss: 0.2316 - accuracy: 0.9366 - val_loss: 0.0712 - val_accuracy: 0.9820\n",
      "Epoch 7/20\n",
      "981/981 [==============================] - 70s 72ms/step - loss: 0.2196 - accuracy: 0.9429 - val_loss: 0.1036 - val_accuracy: 0.9699\n",
      "Epoch 8/20\n",
      "981/981 [==============================] - 72s 73ms/step - loss: 0.2217 - accuracy: 0.9416 - val_loss: 0.0532 - val_accuracy: 0.9846\n",
      "Epoch 9/20\n",
      "981/981 [==============================] - 71s 72ms/step - loss: 0.2166 - accuracy: 0.9418 - val_loss: 0.0574 - val_accuracy: 0.9856\n",
      "Epoch 10/20\n",
      "981/981 [==============================] - 71s 72ms/step - loss: 0.2224 - accuracy: 0.9450 - val_loss: 0.0917 - val_accuracy: 0.9770\n",
      "Epoch 11/20\n",
      "981/981 [==============================] - 72s 74ms/step - loss: 0.2235 - accuracy: 0.9446 - val_loss: 0.0674 - val_accuracy: 0.9838\n",
      "Epoch 12/20\n",
      "981/981 [==============================] - 71s 72ms/step - loss: 0.2045 - accuracy: 0.9486 - val_loss: 0.0927 - val_accuracy: 0.9735\n",
      "Epoch 13/20\n",
      "981/981 [==============================] - 72s 73ms/step - loss: 0.2563 - accuracy: 0.9383 - val_loss: 0.0557 - val_accuracy: 0.9862\n",
      "Epoch 14/20\n",
      "981/981 [==============================] - 71s 73ms/step - loss: 0.2255 - accuracy: 0.9444 - val_loss: 0.1041 - val_accuracy: 0.9741\n",
      "Epoch 15/20\n",
      "981/981 [==============================] - 71s 73ms/step - loss: 0.2026 - accuracy: 0.9500 - val_loss: 0.0613 - val_accuracy: 0.9847\n",
      "Epoch 16/20\n",
      "981/981 [==============================] - 70s 72ms/step - loss: 0.2119 - accuracy: 0.9494 - val_loss: 0.0624 - val_accuracy: 0.9839\n",
      "Epoch 17/20\n",
      "981/981 [==============================] - 70s 71ms/step - loss: 0.1790 - accuracy: 0.9543 - val_loss: 0.0502 - val_accuracy: 0.9875\n",
      "Epoch 18/20\n",
      "981/981 [==============================] - 73s 74ms/step - loss: 0.2125 - accuracy: 0.9474 - val_loss: 0.0557 - val_accuracy: 0.9847\n",
      "Epoch 19/20\n",
      "981/981 [==============================] - 75s 76ms/step - loss: 0.1958 - accuracy: 0.9546 - val_loss: 0.0531 - val_accuracy: 0.9872\n",
      "Epoch 20/20\n",
      "981/981 [==============================] - 73s 74ms/step - loss: 0.1878 - accuracy: 0.9540 - val_loss: 0.0449 - val_accuracy: 0.9887\n"
     ]
    }
   ],
   "source": [
    "epochs =20\n",
    "history = model.fit(X_train, y_train, batch_size=32, epochs=epochs, validation_data=(X_test, y_test))"
   ]
  },
  {
   "cell_type": "code",
   "execution_count": 15,
   "id": "6dff06ac",
   "metadata": {},
   "outputs": [
    {
     "data": {
      "image/png": "[encoded data removed]",
      "text/plain": [
       "<Figure size 640x480 with 1 Axes>"
      ]
     },
     "metadata": {},
     "output_type": "display_data"
    }
   ],
   "source": [
    "#Accuracy\n",
    "plt.figure(0)\n",
    "plt.plot(history.history['accuracy'], label='training accuracy')\n",
    "plt.plot(history.history['val_accuracy'], label='val accuracy')\n",
    "plt.title('Accuracy')\n",
    "plt.xlabel('epochs')\n",
    "plt.ylabel('accuracy')\n",
    "plt.legend()\n",
    "plt.show()"
   ]
  },
  {
   "cell_type": "code",
   "execution_count": 16,
   "id": "9130b6e4",
   "metadata": {},
   "outputs": [
    {
     "data": {
      "image/png": "[encoded data removed]",
      "text/plain": [
       "<Figure size 640x480 with 1 Axes>"
      ]
     },
     "metadata": {},
     "output_type": "display_data"
    }
   ],
   "source": [
    "#loss\n",
    "plt.plot(history.history['loss'], label='training loss')\n",
    "plt.plot(history.history['val_loss'], label='val loss')\n",
    "plt.title('loss')\n",
    "plt.xlabel('epochs')\n",
    "plt.ylabel('Loss')\n",
    "plt.legend()\n",
    "plt.show()\n"
   ]
  },
  {
   "cell_type": "markdown",
   "id": "8e6b8f0f",
   "metadata": {},
   "source": [
    "# Testing on test data"
   ]
  },
  {
   "cell_type": "code",
   "execution_count": 17,
   "id": "b284d185",
   "metadata": {},
   "outputs": [],
   "source": [
    "def testing(Testcsv):\n",
    "    y_test = pd.read_csv(Testcsv)\n",
    "    label = y_test[\"ClassId\"].values\n",
    "    imgs = y_test[\"Path\"].values\n",
    "    data=[]\n",
    "    for img in imgs:\n",
    "        image = Image.open(img)\n",
    "        image = image.resize((30,30))\n",
    "        data.append(np.array(image))\n",
    "    X_test = np.array(data)\n",
    "    return X_test,label"
   ]
  },
  {
   "cell_type": "code",
   "execution_count": 18,
   "id": "7999227d",
   "metadata": {},
   "outputs": [],
   "source": [
    "X_test, label = testing(\"Test.csv\")"
   ]
  },
  {
   "cell_type": "code",
   "execution_count": 19,
   "id": "46f22aec",
   "metadata": {},
   "outputs": [
    {
     "name": "stdout",
     "output_type": "stream",
     "text": [
      "395/395 [==============================] - 3s 7ms/step\n"
     ]
    },
    {
     "data": {
      "text/plain": [
       "array([16,  1, 38, ...,  6,  7, 10], dtype=int64)"
      ]
     },
     "execution_count": 19,
     "metadata": {},
     "output_type": "execute_result"
    }
   ],
   "source": [
    "predict_x = model.predict(X_test)\n",
    "Y_pred = np.argmax(predict_x,axis=1)\n",
    "Y_pred"
   ]
  },
  {
   "cell_type": "markdown",
   "id": "a2e0f989",
   "metadata": {},
   "source": [
    "# Accuray with test data"
   ]
  },
  {
   "cell_type": "code",
   "execution_count": 20,
   "id": "db1c715d",
   "metadata": {},
   "outputs": [
    {
     "name": "stdout",
     "output_type": "stream",
     "text": [
      "0.9529691211401425\n"
     ]
    }
   ],
   "source": [
    "from sklearn.metrics import accuracy_score\n",
    "print(accuracy_score(label,Y_pred))\n"
   ]
  },
  {
   "cell_type": "markdown",
   "id": "6acb2827",
   "metadata": {},
   "source": [
    "# Save the model"
   ]
  },
  {
   "cell_type": "code",
   "execution_count": 21,
   "id": "916c9ad6",
   "metadata": {},
   "outputs": [
    {
     "name": "stdout",
     "output_type": "stream",
     "text": [
      "INFO:tensorflow:Assets written to: ./keras model saved/TSR\\assets\n"
     ]
    },
    {
     "name": "stderr",
     "output_type": "stream",
     "text": [
      "INFO:tensorflow:Assets written to: ./keras model saved/TSR\\assets\n"
     ]
    }
   ],
   "source": [
    "model.save(\"./keras model saved/TSR\")"
   ]
  },
  {
   "cell_type": "markdown",
   "id": "33ff8cd9",
   "metadata": {},
   "source": [
    "# Load the model"
   ]
  },
  {
   "cell_type": "code",
   "execution_count": 22,
   "id": "36cd34a3",
   "metadata": {},
   "outputs": [],
   "source": [
    "import os\n",
    "os.chdir(r\"C:\\Projects\")\n",
    "from keras.models import load_model\n",
    "model = load_model('./keras model saved/TSR/')\n"
   ]
  },
  {
   "cell_type": "code",
   "execution_count": 26,
   "id": "e941618a",
   "metadata": {},
   "outputs": [],
   "source": [
    "# Classes of traffic signs\n",
    "classes = {\n",
    "0:'Speed limit (5km/h)',\n",
    "1:'Speed limit (15km/h)',\n",
    "2:'Speed limit (30km/h)',\n",
    "3:'Speed limit (40km/h)',\n",
    "4:'Speed limit (50km/h)',\n",
    "5:'Speed limit (60km/h)',\n",
    "6:'Speed limit (70km/h)',\n",
    "7:'speed limit (80km/h)',\n",
    "8:'Dont Go straight or left',\n",
    "9:'Dont Go straight or Right',\n",
    "10:'Dont Go straight',\n",
    "11:'Dont Go Left',\n",
    "12:'Dont Go Left or Right',\n",
    "13:'Dont Go Right',\n",
    "14:'Dont overtake from Left',\n",
    "15:'No Uturn',\n",
    "16:'No Car',\n",
    "17:'No horn',\n",
    "18:'Speed limit (40km/h)',\n",
    "19:'Speed limit (50km/h)',\n",
    "20:'Go straight or right',\n",
    "21:'Go straight',\n",
    "22:'Go Left',\n",
    "23:'Go Left or right',\n",
    "24:'Go Right',\n",
    "25:'keep Left',\n",
    "26:'keep Right',\n",
    "27:'Roundabout mandatory',\n",
    "28:'watch out for cars',\n",
    "29:'Horn',\n",
    "30:'Bicycles crossing',\n",
    "31:'Uturn',\n",
    "32:'Road Divider',\n",
    "33:'Traffic signals',\n",
    "34:'Danger Ahead',\n",
    "35:'Zebra Crossing',\n",
    "36:'Bicycles crossing',\n",
    "37:'Children crossing',\n",
    "38:'Dangerous curve to the left',\n",
    "39:'Dangerous curve to the right',\n",
    "40:'Unknown1',\n",
    "41:'Unknown2',\n",
    "42:'Unknown3',\n",
    "43:'Go right or straight',\n",
    "44:'Go left or straight',\n",
    "45:'Unknown4',\n",
    "46:'ZigZag Curve',\n",
    "47:'Train Crossing',\n",
    "48:'Under Construction',\n",
    "49:'Unknown5',\n",
    "50:'Fences',\n",
    "51:'Heavy Vehicle Accidents',\n",
    "52:'Unknown6',\n",
    "53:'Give Way',\n",
    "54:'No stopping',\n",
    "55:'No entry',\n",
    "56:'Unknown7',\n",
    "57:'Unknown8',\n",
    "}"
   ]
  },
  {
   "cell_type": "code",
   "execution_count": 33,
   "id": "1d20dd27",
   "metadata": {},
   "outputs": [],
   "source": [
    "from PIL import Image\n",
    "import numpy as np\n",
    "import matplotlib.pyplot as plt\n",
    "def test_on_img(img):\n",
    "    data=[]\n",
    "    image = Image.open(img)\n",
    "    image = image.resize((30,30))\n",
    "    data.append(np.array(image))\n",
    "    X_test = np.array(data)\n",
    "    \n",
    "    predict_x = model.predict(X_test)\n",
    "    Y_pred = np.argmax(predict_x,axis=1)\n",
    "    \n",
    "    #Y_pred = model.predict_classes(X_test)\n",
    "    return image,Y_pred\n",
    "    "
   ]
  },
  {
   "cell_type": "code",
   "execution_count": 34,
   "id": "5f383052",
   "metadata": {},
   "outputs": [
    {
     "name": "stdout",
     "output_type": "stream",
     "text": [
      "1/1 [==============================] - 0s 21ms/step\n",
      "Prediction traffic sign is:  Traffic signals\n"
     ]
    },
    {
     "data": {
      "image/png": "[encoded data removed]",
      "text/plain": [
       "<Figure size 640x480 with 1 Axes>"
      ]
     },
     "metadata": {},
     "output_type": "display_data"
    }
   ],
   "source": [
    "plot,prediction = test_on_img(r'C:\\Projects\\Test\\00174.png')\n",
    "s = [str(i)for i in prediction]\n",
    "a = int(\"\".join(s))\n",
    "print(\"Prediction traffic sign is: \", classes[a])\n",
    "plt.imshow(plot)\n",
    "plt.show()"
   ]
  },
  {
   "cell_type": "markdown",
   "id": "3a5622f4",
   "metadata": {},
   "source": [
    "#####################-----------End-------------------##################################"
   ]
  },
  {
   "cell_type": "code",
   "execution_count": null,
   "id": "cdc2e460",
   "metadata": {},
   "outputs": [],
   "source": []
  }
 ],
 "metadata": {
  "kernelspec": {
   "display_name": "Python 3 (ipykernel)",
   "language": "python",
   "name": "python3"
  },
  "language_info": {
   "codemirror_mode": {
    "name": "ipython",
    "version": 3
   },
   "file_extension": ".py",
   "mimetype": "text/x-python",
   "name": "python",
   "nbconvert_exporter": "python",
   "pygments_lexer": "ipython3",
   "version": "3.9.13"
  }
 },
 "nbformat": 4,
 "nbformat_minor": 5
}
